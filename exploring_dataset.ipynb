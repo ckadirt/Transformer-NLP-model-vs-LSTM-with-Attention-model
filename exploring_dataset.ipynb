{
 "cells": [
  {
   "cell_type": "code",
   "execution_count": 133,
   "metadata": {},
   "outputs": [
    {
     "name": "stdout",
     "output_type": "stream",
     "text": [
      "huggingface/tokenizers: The current process just got forked, after parallelism has already been used. Disabling parallelism to avoid deadlocks...\n",
      "To disable this warning, you can either:\n",
      "\t- Avoid using `tokenizers` before the fork if possible\n",
      "\t- Explicitly set the environment variable TOKENIZERS_PARALLELISM=(true | false)\n",
      "Requirement already satisfied: datasets in /home/ckadirt/.local/lib/python3.9/site-packages (2.5.2)\n",
      "Requirement already satisfied: requests>=2.19.0 in /usr/local/lib/python3.9/dist-packages (from datasets) (2.27.1)\n",
      "Requirement already satisfied: packaging in /usr/lib/python3/dist-packages (from datasets) (20.9)\n",
      "Requirement already satisfied: aiohttp in /usr/lib/python3/dist-packages (from datasets) (3.7.4)\n",
      "Requirement already satisfied: tqdm>=4.62.1 in /home/ckadirt/.local/lib/python3.9/site-packages (from datasets) (4.64.1)\n",
      "Requirement already satisfied: multiprocess in /home/ckadirt/.local/lib/python3.9/site-packages (from datasets) (0.70.13)\n",
      "Requirement already satisfied: xxhash in /home/ckadirt/.local/lib/python3.9/site-packages (from datasets) (3.0.0)\n",
      "Requirement already satisfied: fsspec[http]>=2021.11.1 in /home/ckadirt/.local/lib/python3.9/site-packages (from datasets) (2022.8.2)\n",
      "Requirement already satisfied: responses<0.19 in /home/ckadirt/.local/lib/python3.9/site-packages (from datasets) (0.18.0)\n",
      "Requirement already satisfied: huggingface-hub<1.0.0,>=0.2.0 in /home/ckadirt/.local/lib/python3.9/site-packages (from datasets) (0.10.1)\n",
      "Requirement already satisfied: pyarrow>=6.0.0 in /home/ckadirt/.local/lib/python3.9/site-packages (from datasets) (9.0.0)\n",
      "Requirement already satisfied: numpy>=1.17 in /home/ckadirt/.local/lib/python3.9/site-packages (from datasets) (1.22.2)\n",
      "Requirement already satisfied: dill<0.3.6 in /home/ckadirt/.local/lib/python3.9/site-packages (from datasets) (0.3.5.1)\n",
      "Requirement already satisfied: pandas in /home/ckadirt/.local/lib/python3.9/site-packages (from datasets) (1.5.0)\n",
      "Requirement already satisfied: typing-extensions>=3.7.4.3 in /home/ckadirt/.local/lib/python3.9/site-packages (from huggingface-hub<1.0.0,>=0.2.0->datasets) (4.3.0)\n",
      "Requirement already satisfied: filelock in /home/ckadirt/.local/lib/python3.9/site-packages (from huggingface-hub<1.0.0,>=0.2.0->datasets) (3.8.0)\n",
      "Requirement already satisfied: pyyaml>=5.1 in /home/ckadirt/.local/lib/python3.9/site-packages (from huggingface-hub<1.0.0,>=0.2.0->datasets) (5.4.1)\n",
      "Requirement already satisfied: certifi>=2017.4.17 in /usr/lib/python3/dist-packages (from requests>=2.19.0->datasets) (2020.6.20)\n",
      "Requirement already satisfied: charset-normalizer~=2.0.0 in /usr/local/lib/python3.9/dist-packages (from requests>=2.19.0->datasets) (2.0.12)\n",
      "Requirement already satisfied: urllib3<1.27,>=1.21.1 in /usr/lib/python3/dist-packages (from requests>=2.19.0->datasets) (1.26.5)\n",
      "Requirement already satisfied: idna<4,>=2.5 in /usr/lib/python3/dist-packages (from requests>=2.19.0->datasets) (2.10)\n",
      "Requirement already satisfied: pytz>=2020.1 in /usr/lib/python3/dist-packages (from pandas->datasets) (2021.1)\n",
      "Requirement already satisfied: python-dateutil>=2.8.1 in /home/ckadirt/.local/lib/python3.9/site-packages (from pandas->datasets) (2.8.2)\n",
      "Requirement already satisfied: six>=1.5 in /usr/lib/python3/dist-packages (from python-dateutil>=2.8.1->pandas->datasets) (1.16.0)\n",
      "huggingface/tokenizers: The current process just got forked, after parallelism has already been used. Disabling parallelism to avoid deadlocks...\n",
      "To disable this warning, you can either:\n",
      "\t- Avoid using `tokenizers` before the fork if possible\n",
      "\t- Explicitly set the environment variable TOKENIZERS_PARALLELISM=(true | false)\n",
      "Requirement already satisfied: transformers in /home/ckadirt/.local/lib/python3.9/site-packages (4.23.1)\n",
      "Requirement already satisfied: packaging>=20.0 in /usr/lib/python3/dist-packages (from transformers) (20.9)\n",
      "Requirement already satisfied: numpy>=1.17 in /home/ckadirt/.local/lib/python3.9/site-packages (from transformers) (1.22.2)\n",
      "Requirement already satisfied: tokenizers!=0.11.3,<0.14,>=0.11.1 in /home/ckadirt/.local/lib/python3.9/site-packages (from transformers) (0.13.1)\n",
      "Requirement already satisfied: pyyaml>=5.1 in /home/ckadirt/.local/lib/python3.9/site-packages (from transformers) (5.4.1)\n",
      "Requirement already satisfied: filelock in /home/ckadirt/.local/lib/python3.9/site-packages (from transformers) (3.8.0)\n",
      "Requirement already satisfied: huggingface-hub<1.0,>=0.10.0 in /home/ckadirt/.local/lib/python3.9/site-packages (from transformers) (0.10.1)\n",
      "Requirement already satisfied: tqdm>=4.27 in /home/ckadirt/.local/lib/python3.9/site-packages (from transformers) (4.64.1)\n",
      "Requirement already satisfied: regex!=2019.12.17 in /home/ckadirt/.local/lib/python3.9/site-packages (from transformers) (2022.9.13)\n",
      "Requirement already satisfied: requests in /usr/local/lib/python3.9/dist-packages (from transformers) (2.27.1)\n",
      "Requirement already satisfied: typing-extensions>=3.7.4.3 in /home/ckadirt/.local/lib/python3.9/site-packages (from huggingface-hub<1.0,>=0.10.0->transformers) (4.3.0)\n",
      "Requirement already satisfied: urllib3<1.27,>=1.21.1 in /usr/lib/python3/dist-packages (from requests->transformers) (1.26.5)\n",
      "Requirement already satisfied: certifi>=2017.4.17 in /usr/lib/python3/dist-packages (from requests->transformers) (2020.6.20)\n",
      "Requirement already satisfied: charset-normalizer~=2.0.0 in /usr/local/lib/python3.9/dist-packages (from requests->transformers) (2.0.12)\n",
      "Requirement already satisfied: idna<4,>=2.5 in /usr/lib/python3/dist-packages (from requests->transformers) (2.10)\n",
      "huggingface/tokenizers: The current process just got forked, after parallelism has already been used. Disabling parallelism to avoid deadlocks...\n",
      "To disable this warning, you can either:\n",
      "\t- Avoid using `tokenizers` before the fork if possible\n",
      "\t- Explicitly set the environment variable TOKENIZERS_PARALLELISM=(true | false)\n",
      "Collecting torch\n",
      "  Downloading torch-1.12.1-cp39-cp39-manylinux1_x86_64.whl (776.4 MB)\n",
      "\u001b[K     |                                | 2.3 MB 10 kB/s eta 19:52:474:23:21^C\n",
      "\n",
      "\u001b[?25h\u001b[31mERROR: Operation cancelled by user\u001b[0m\n"
     ]
    }
   ],
   "source": [
    "!pip install datasets\n",
    "!pip install transformers\n",
    "!pip install torch"
   ]
  },
  {
   "cell_type": "code",
   "execution_count": 2,
   "metadata": {},
   "outputs": [],
   "source": [
    "import pandas as pd\n",
    "from datasets import load_dataset\n",
    "from pprint import pprint\n",
    "from transformers import DistilBertTokenizerFast"
   ]
  },
  {
   "cell_type": "code",
   "execution_count": 22,
   "metadata": {},
   "outputs": [
    {
     "name": "stderr",
     "output_type": "stream",
     "text": [
      "Using custom data configuration default\n",
      "Found cached dataset daily_dialog (/home/ckadirt/.cache/huggingface/datasets/daily_dialog/default/1.0.0/1d0a58c7f2a4dab5ed9d01dbde8e55e0058e589ab81fce5c2df929ea810eabcd)\n",
      "100%|██████████| 3/3 [00:00<00:00,  4.57it/s]\n"
     ]
    }
   ],
   "source": [
    "\"\"\"dataset = load_dataset('daily_dialog')\n",
    "dataset.items()\n",
    "for split, data in dataset.items():\n",
    "    data.to_csv(f'daily-{split}.csv', index = None)\"\"\""
   ]
  },
  {
   "cell_type": "code",
   "execution_count": 3,
   "metadata": {},
   "outputs": [
    {
     "data": {
      "text/plain": [
       "'[\\'Say , Jim , how about going for a few beers after dinner ? \\'\\n \\' You know that is tempting but is really not good for our fitness . \\'\\n \\' What do you mean ? It will help us to relax . \\'\\n \" Do you really think so ? I don\\'t . It will just make us fat and act silly . Remember last time ? \"\\n \" I guess you are right.But what shall we do ? I don\\'t feel like sitting at home . \"\\n \\' I suggest a walk over to the gym where we can play singsong and meet some of our friends . \\'\\n \" That\\'s a good idea . I hear Mary and Sally often go there to play pingpong.Perhaps we can make a foursome with them . \"\\n \\' Sounds great to me ! If they are willing , we could ask them to go dancing with us.That is excellent exercise and fun , too . \\'\\n \" Good.Let \\' s go now . \" \\' All right . \\']'"
      ]
     },
     "execution_count": 3,
     "metadata": {},
     "output_type": "execute_result"
    }
   ],
   "source": [
    "data_train = pd.read_csv('daily-train.csv')\n",
    "data_validation = pd.read_csv('daily-validation.csv')\n",
    "data_test = pd.read_csv('daily-test.csv')\n"
   ]
  },
  {
   "cell_type": "code",
   "execution_count": 128,
   "metadata": {},
   "outputs": [],
   "source": [
    "\n",
    "#write a function to split the text into sentences\n",
    "def split_text(text):\n",
    "    text = text.split('\\n ')\n",
    "    return text\n",
    "#write a function to clean the text\n",
    "def clean_text(text):\n",
    "    text = text.replace('[', '')\n",
    "    text = text.replace(']', '')\n",
    "    text = text.replace('\\n', '')\n",
    "    text = text.replace('\\\"', '')\n",
    "    text = text.replace('  ', ' ')\n",
    "    \n",
    "    if(text[0] == '\\''):\n",
    "        text = text[1:]\n",
    "    if(text[-1] == '\\''):\n",
    "        text = text[:-1]\n",
    "    return text\n",
    "\n",
    "#this function clean a split the text into sentences\n",
    "def prepare_text(text):\n",
    "    if(type(text) == str):\n",
    "        splited_text = split_text(text)\n",
    "        cleaned_text = [clean_text(sentence) for sentence in splited_text]\n",
    "        return cleaned_text\n",
    "    if(type(text) == list):\n",
    "        arraytext = []\n",
    "        for sentence in text:\n",
    "            splited_text = split_text(sentence)\n",
    "            cleaned_text = [clean_text(sentence) for sentence in splited_text]\n",
    "            arraytext.append(cleaned_text)\n",
    "        return arraytext\n",
    "\n",
    "#defining the tokenizer\n",
    "tokenizer = DistilBertTokenizerFast.from_pretrained('distilbert-base-uncased')\n",
    "\n",
    "#tokenizing the splited text\n",
    "def tokenize_function(text):\n",
    "    tokenized_inputs = tokenizer(text, truncation = True, padding = 'max_length', max_length = 512,)\n",
    "    return tokenized_inputs\n",
    "\n",
    "#coverting from text or list of text to tokenized inputs\n",
    "def text_to_token(text):\n",
    "    if (type(text) == str):\n",
    "        pure_text = prepare_text(text)\n",
    "        tokenized_text = tokenize_function(pure_text)\n",
    "        return tokenized_text\n",
    "    if (type(text) == list):\n",
    "        tokenized_text = []\n",
    "        for sentence in text:\n",
    "            pure_text = prepare_text(sentence)\n",
    "            tokenized_sentence = tokenize_function(pure_text)\n",
    "            tokenized_text.append(tokenized_sentence)\n",
    "        return tokenized_text\n",
    "    "
   ]
  },
  {
   "cell_type": "code",
   "execution_count": 132,
   "metadata": {},
   "outputs": [
    {
     "ename": "ModuleNotFoundError",
     "evalue": "No module named 'torch'",
     "output_type": "error",
     "traceback": [
      "\u001b[0;31m---------------------------------------------------------------------------\u001b[0m",
      "\u001b[0;31mModuleNotFoundError\u001b[0m                       Traceback (most recent call last)",
      "Cell \u001b[0;32mIn [132], line 1\u001b[0m\n\u001b[0;32m----> 1\u001b[0m \u001b[38;5;28;01mimport\u001b[39;00m \u001b[38;5;21;01mtorch\u001b[39;00m\n\u001b[1;32m      2\u001b[0m dialogues \u001b[38;5;241m=\u001b[39m data_train\u001b[38;5;241m.\u001b[39miloc[\u001b[38;5;241m0\u001b[39m:\u001b[38;5;241m10\u001b[39m][\u001b[38;5;124m'\u001b[39m\u001b[38;5;124mdialog\u001b[39m\u001b[38;5;124m'\u001b[39m]\u001b[38;5;241m.\u001b[39mvalues\u001b[38;5;241m.\u001b[39mtolist()\n\u001b[1;32m      3\u001b[0m tokenized_text \u001b[38;5;241m=\u001b[39m text_to_token(dialogues)\n",
      "\u001b[0;31mModuleNotFoundError\u001b[0m: No module named 'torch'"
     ]
    }
   ],
   "source": [
    "dialogues = data_train.iloc[0:10]['dialog'].values.tolist()\n",
    "tokenized_text = text_to_token(dialogues)\n",
    "tokenized_text[0]"
   ]
  },
  {
   "cell_type": "code",
   "execution_count": null,
   "metadata": {},
   "outputs": [],
   "source": []
  }
 ],
 "metadata": {
  "kernelspec": {
   "display_name": "Python 3.9.2 64-bit",
   "language": "python",
   "name": "python3"
  },
  "language_info": {
   "codemirror_mode": {
    "name": "ipython",
    "version": 3
   },
   "file_extension": ".py",
   "mimetype": "text/x-python",
   "name": "python",
   "nbconvert_exporter": "python",
   "pygments_lexer": "ipython3",
   "version": "3.9.2"
  },
  "orig_nbformat": 4,
  "vscode": {
   "interpreter": {
    "hash": "916dbcbb3f70747c44a77c7bcd40155683ae19c65e1c03b4aa3499c5328201f1"
   }
  }
 },
 "nbformat": 4,
 "nbformat_minor": 2
}
